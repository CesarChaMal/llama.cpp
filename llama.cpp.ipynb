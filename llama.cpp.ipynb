{
  "cells": [
    {
      "cell_type": "markdown",
      "metadata": {
        "id": "view-in-github",
        "colab_type": "text"
      },
      "source": [
        "<a href=\"https://colab.research.google.com/github/CesarChaMal/llama.cpp/blob/master/llama.cpp.ipynb\" target=\"_parent\"><img src=\"https://colab.research.google.com/assets/colab-badge.svg\" alt=\"Open In Colab\"/></a>"
      ]
    },
    {
      "cell_type": "markdown",
      "metadata": {
        "id": "D3L8Lkyj-5gl"
      },
      "source": [
        "#Clone repo, download model and install dependencies"
      ]
    },
    {
      "cell_type": "code",
      "execution_count": null,
      "metadata": {
        "id": "0aHr4Fo-7IRy",
        "colab": {
          "base_uri": "https://localhost:8080/"
        },
        "outputId": "98d9fd6f-f271-485f-e85e-0c1893be6896"
      },
      "outputs": [
        {
          "output_type": "stream",
          "name": "stdout",
          "text": [
            "Git LFS initialized.\n",
            "Cloning into 'openHermes-7b-v2.5'...\n",
            "remote: Enumerating objects: 58, done.\u001b[K\n",
            "remote: Counting objects: 100% (55/55), done.\u001b[K\n",
            "remote: Compressing objects: 100% (55/55), done.\u001b[K\n",
            "remote: Total 58 (delta 25), reused 0 (delta 0), pack-reused 3\u001b[K\n",
            "Unpacking objects: 100% (58/58), 14.89 KiB | 586.00 KiB/s, done.\n"
          ]
        }
      ],
      "source": [
        "!rm -rf *\n",
        "!git lfs install\n",
        "!git clone https://huggingface.co/teknium/OpenHermes-2.5-Mistral-7B openHermes-7b-v2.5\n",
        "!wget https://repo.anaconda.com/miniconda/Miniconda3-latest-Linux-x86_64.sh\n",
        "!chmod +x Miniconda3-latest-Linux-x86_64.sh\n",
        "!./Miniconda3-latest-Linux-x86_64.sh -b -f -p /usr/local\n",
        "!source /usr/local/etc/profile.d/conda.sh && conda init bash\n",
        "!source ~/.bashrc\n",
        "!conda create --name venv python=3.8 -y\n",
        "!source /usr/local/etc/profile.d/conda.sh && conda activate venv\n",
        "!/usr/local/envs/venv/bin/python --version\n",
        "!python -c \"import os; print('Current Working Directory:', os.getcwd())\"\n",
        "!/usr/local/envs/venv/bin/python -c \"import os; print('Current Working Directory:', os.getcwd())\"\n",
        "!/usr/local/envs/venv/bin/python -m pip install -r /content/inswapper/requirements.txt\n",
        "!apt install -y make\n",
        "!make\n",
        "!/usr/local/envs/venv/bin/python -m convert.py ./models/openHermes-7b-v2.5 --outfile ./models/openHermes-7b-v2.5/ggml-model-f16.gguf --outtype f16\n",
        "!/usr/local/envs/venv/bin/python -m pip install sentencepiece\n",
        "!/usr/local/envs/venv/bin/python -m ./quantize ./models/openhermes-7b-v2..5/\n",
        "\n"
      ]
    }
  ],
  "metadata": {
    "accelerator": "GPU",
    "colab": {
      "provenance": [],
      "gpuType": "T4",
      "include_colab_link": true
    },
    "kernelspec": {
      "display_name": "Python 3",
      "name": "python3"
    },
    "language_info": {
      "name": "python"
    }
  },
  "nbformat": 4,
  "nbformat_minor": 0
}